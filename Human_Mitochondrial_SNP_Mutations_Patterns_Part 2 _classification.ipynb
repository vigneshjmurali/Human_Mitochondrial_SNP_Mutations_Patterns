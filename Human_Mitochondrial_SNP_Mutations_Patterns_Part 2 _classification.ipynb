{
 "cells": [
  {
   "cell_type": "code",
   "execution_count": 1,
   "metadata": {},
   "outputs": [
    {
     "name": "stderr",
     "output_type": "stream",
     "text": [
      "C:\\Users\\jmvig\\Anaconda3\\lib\\site-packages\\sklearn\\cross_validation.py:41: DeprecationWarning: This module was deprecated in version 0.18 in favor of the model_selection module into which all the refactored classes and functions are moved. Also note that the interface of the new CV iterators are different from that of this module. This module will be removed in 0.20.\n",
      "  \"This module will be removed in 0.20.\", DeprecationWarning)\n"
     ]
    }
   ],
   "source": [
    "import pandas as pd ; import numpy as np; import random as rnd ;import math\n",
    "#importing data visualization packages\n",
    "import seaborn as sns ; import matplotlib.pyplot as plt\n",
    "%matplotlib inline\n",
    "#importing machine learning packages\n",
    "from sklearn.linear_model import LogisticRegression\n",
    "from sklearn.svm import SVC, LinearSVC\n",
    "from sklearn.ensemble import RandomForestClassifier\n",
    "from sklearn.neighbors import KNeighborsClassifier\n",
    "from sklearn.naive_bayes import GaussianNB\n",
    "from sklearn.linear_model import Perceptron\n",
    "from sklearn.linear_model import SGDClassifier\n",
    "from sklearn.tree import DecisionTreeClassifier\n",
    "from sklearn.cross_validation import train_test_split\n",
    "from sklearn.metrics import accuracy_score\n",
    "from sklearn.ensemble import GradientBoostingClassifier\n",
    "from sklearn.neural_network import MLPClassifier\n",
    "from sklearn.preprocessing import Imputer\n",
    "from sklearn.metrics import roc_curve\n",
    "from sklearn.metrics import roc_auc_score\n",
    "from IPython.display import display, Math, Latex\n",
    "import os; import warnings\n",
    "warnings.filterwarnings(\"ignore\",category=DeprecationWarning)\n",
    "from sklearn.exceptions import DataConversionWarning\n",
    "warnings.filterwarnings(action='ignore', category=DataConversionWarning)"
   ]
  },
  {
   "cell_type": "code",
   "execution_count": 2,
   "metadata": {},
   "outputs": [
    {
     "data": {
      "text/html": [
       "<div>\n",
       "<style scoped>\n",
       "    .dataframe tbody tr th:only-of-type {\n",
       "        vertical-align: middle;\n",
       "    }\n",
       "\n",
       "    .dataframe tbody tr th {\n",
       "        vertical-align: top;\n",
       "    }\n",
       "\n",
       "    .dataframe thead th {\n",
       "        text-align: right;\n",
       "    }\n",
       "</style>\n",
       "<table border=\"1\" class=\"dataframe\">\n",
       "  <thead>\n",
       "    <tr style=\"text-align: right;\">\n",
       "      <th></th>\n",
       "      <th>PC1</th>\n",
       "      <th>PC2</th>\n",
       "      <th>PC3</th>\n",
       "      <th>PC4</th>\n",
       "      <th>PC5</th>\n",
       "      <th>PC6</th>\n",
       "      <th>PC7</th>\n",
       "      <th>PC8</th>\n",
       "      <th>PC9</th>\n",
       "      <th>PC10</th>\n",
       "      <th>...</th>\n",
       "      <th>PC92</th>\n",
       "      <th>PC93</th>\n",
       "      <th>PC94</th>\n",
       "      <th>PC95</th>\n",
       "      <th>PC96</th>\n",
       "      <th>PC97</th>\n",
       "      <th>PC98</th>\n",
       "      <th>PC99</th>\n",
       "      <th>PC100</th>\n",
       "      <th>Group</th>\n",
       "    </tr>\n",
       "  </thead>\n",
       "  <tbody>\n",
       "    <tr>\n",
       "      <th>0</th>\n",
       "      <td>1.442831</td>\n",
       "      <td>-0.686765</td>\n",
       "      <td>0.468785</td>\n",
       "      <td>-0.290551</td>\n",
       "      <td>0.314818</td>\n",
       "      <td>-1.315194</td>\n",
       "      <td>0.243438</td>\n",
       "      <td>-0.115162</td>\n",
       "      <td>0.218163</td>\n",
       "      <td>-0.115118</td>\n",
       "      <td>...</td>\n",
       "      <td>0.045520</td>\n",
       "      <td>0.022861</td>\n",
       "      <td>-0.036101</td>\n",
       "      <td>-0.045053</td>\n",
       "      <td>0.044637</td>\n",
       "      <td>0.032376</td>\n",
       "      <td>0.000209</td>\n",
       "      <td>0.023352</td>\n",
       "      <td>0.052612</td>\n",
       "      <td>3</td>\n",
       "    </tr>\n",
       "    <tr>\n",
       "      <th>1</th>\n",
       "      <td>1.089354</td>\n",
       "      <td>-0.464034</td>\n",
       "      <td>0.540537</td>\n",
       "      <td>-0.543541</td>\n",
       "      <td>-0.722837</td>\n",
       "      <td>0.890805</td>\n",
       "      <td>-2.843562</td>\n",
       "      <td>0.941034</td>\n",
       "      <td>0.516424</td>\n",
       "      <td>-0.710239</td>\n",
       "      <td>...</td>\n",
       "      <td>-0.148358</td>\n",
       "      <td>-0.243735</td>\n",
       "      <td>0.253410</td>\n",
       "      <td>-0.261774</td>\n",
       "      <td>0.239172</td>\n",
       "      <td>0.169109</td>\n",
       "      <td>0.230727</td>\n",
       "      <td>0.111801</td>\n",
       "      <td>-0.131425</td>\n",
       "      <td>3</td>\n",
       "    </tr>\n",
       "    <tr>\n",
       "      <th>2</th>\n",
       "      <td>1.560937</td>\n",
       "      <td>-0.531389</td>\n",
       "      <td>0.406607</td>\n",
       "      <td>-0.428215</td>\n",
       "      <td>0.380627</td>\n",
       "      <td>-1.441982</td>\n",
       "      <td>0.168146</td>\n",
       "      <td>-0.125349</td>\n",
       "      <td>0.272046</td>\n",
       "      <td>0.164182</td>\n",
       "      <td>...</td>\n",
       "      <td>-0.000791</td>\n",
       "      <td>0.014757</td>\n",
       "      <td>-0.032657</td>\n",
       "      <td>-0.005530</td>\n",
       "      <td>-0.010250</td>\n",
       "      <td>-0.078039</td>\n",
       "      <td>-0.041651</td>\n",
       "      <td>0.004365</td>\n",
       "      <td>-0.001871</td>\n",
       "      <td>3</td>\n",
       "    </tr>\n",
       "    <tr>\n",
       "      <th>3</th>\n",
       "      <td>0.472741</td>\n",
       "      <td>-0.214044</td>\n",
       "      <td>-0.076352</td>\n",
       "      <td>0.473530</td>\n",
       "      <td>-0.276657</td>\n",
       "      <td>0.097556</td>\n",
       "      <td>0.092443</td>\n",
       "      <td>0.242415</td>\n",
       "      <td>-0.276758</td>\n",
       "      <td>-0.184610</td>\n",
       "      <td>...</td>\n",
       "      <td>0.001585</td>\n",
       "      <td>0.086947</td>\n",
       "      <td>-0.180514</td>\n",
       "      <td>0.126260</td>\n",
       "      <td>0.134495</td>\n",
       "      <td>0.002910</td>\n",
       "      <td>-0.125814</td>\n",
       "      <td>-0.055301</td>\n",
       "      <td>0.014426</td>\n",
       "      <td>3</td>\n",
       "    </tr>\n",
       "    <tr>\n",
       "      <th>4</th>\n",
       "      <td>0.962488</td>\n",
       "      <td>-0.039957</td>\n",
       "      <td>0.272991</td>\n",
       "      <td>-0.772692</td>\n",
       "      <td>-0.134409</td>\n",
       "      <td>0.732053</td>\n",
       "      <td>-1.690528</td>\n",
       "      <td>0.341641</td>\n",
       "      <td>0.558391</td>\n",
       "      <td>1.092714</td>\n",
       "      <td>...</td>\n",
       "      <td>-0.209577</td>\n",
       "      <td>-0.015156</td>\n",
       "      <td>0.041525</td>\n",
       "      <td>0.000584</td>\n",
       "      <td>0.056324</td>\n",
       "      <td>0.027536</td>\n",
       "      <td>-0.029483</td>\n",
       "      <td>-0.036062</td>\n",
       "      <td>0.025104</td>\n",
       "      <td>3</td>\n",
       "    </tr>\n",
       "  </tbody>\n",
       "</table>\n",
       "<p>5 rows × 101 columns</p>\n",
       "</div>"
      ],
      "text/plain": [
       "        PC1       PC2       PC3       PC4       PC5       PC6       PC7  \\\n",
       "0  1.442831 -0.686765  0.468785 -0.290551  0.314818 -1.315194  0.243438   \n",
       "1  1.089354 -0.464034  0.540537 -0.543541 -0.722837  0.890805 -2.843562   \n",
       "2  1.560937 -0.531389  0.406607 -0.428215  0.380627 -1.441982  0.168146   \n",
       "3  0.472741 -0.214044 -0.076352  0.473530 -0.276657  0.097556  0.092443   \n",
       "4  0.962488 -0.039957  0.272991 -0.772692 -0.134409  0.732053 -1.690528   \n",
       "\n",
       "        PC8       PC9      PC10  ...        PC92      PC93      PC94  \\\n",
       "0 -0.115162  0.218163 -0.115118  ...    0.045520  0.022861 -0.036101   \n",
       "1  0.941034  0.516424 -0.710239  ...   -0.148358 -0.243735  0.253410   \n",
       "2 -0.125349  0.272046  0.164182  ...   -0.000791  0.014757 -0.032657   \n",
       "3  0.242415 -0.276758 -0.184610  ...    0.001585  0.086947 -0.180514   \n",
       "4  0.341641  0.558391  1.092714  ...   -0.209577 -0.015156  0.041525   \n",
       "\n",
       "       PC95      PC96      PC97      PC98      PC99     PC100  Group  \n",
       "0 -0.045053  0.044637  0.032376  0.000209  0.023352  0.052612      3  \n",
       "1 -0.261774  0.239172  0.169109  0.230727  0.111801 -0.131425      3  \n",
       "2 -0.005530 -0.010250 -0.078039 -0.041651  0.004365 -0.001871      3  \n",
       "3  0.126260  0.134495  0.002910 -0.125814 -0.055301  0.014426      3  \n",
       "4  0.000584  0.056324  0.027536 -0.029483 -0.036062  0.025104      3  \n",
       "\n",
       "[5 rows x 101 columns]"
      ]
     },
     "execution_count": 2,
     "metadata": {},
     "output_type": "execute_result"
    }
   ],
   "source": [
    "mitoclean=pd.read_csv(\"https://raw.githubusercontent.com/vigneshjmurali/Statistical-Predictive-Modelling/master/Datasets/mitogroup1.csv\")\n",
    "mitoclean.head(5)"
   ]
  },
  {
   "cell_type": "code",
   "execution_count": 3,
   "metadata": {},
   "outputs": [
    {
     "name": "stdout",
     "output_type": "stream",
     "text": [
      "(805, 100)\n",
      "(269, 100)\n",
      "(805, 1)\n",
      "(269, 1)\n"
     ]
    }
   ],
   "source": [
    "y_mitogroupclean=pd.DataFrame([mitoclean.Group]).T\n",
    "x_mitogroupclean=pd.DataFrame(mitoclean)\n",
    "x_mitogroupclean=mitoclean.drop(['Group'],axis=1)\n",
    "#print(x_mitogroupclean);print(y_mitogroupclean)\n",
    "from sklearn.cross_validation import train_test_split\n",
    "xtrain_mitoclean, xtest_mitoclean, ytrain_mitoclean, ytest_mitoclean=train_test_split(\n",
    "    x_mitogroupclean,y_mitogroupclean,random_state=1,test_size=0.25)\n",
    "print(xtrain_mitoclean.shape);print(xtest_mitoclean.shape)\n",
    "print(ytrain_mitoclean.shape);print(ytest_mitoclean.shape)\n"
   ]
  },
  {
   "cell_type": "code",
   "execution_count": 4,
   "metadata": {},
   "outputs": [
    {
     "name": "stdout",
     "output_type": "stream",
     "text": [
      "k: 1. Accuracy: 1.00 +/- 0.00\n",
      "k: 3. Accuracy: 1.00 +/- 0.00\n",
      "k: 4. Accuracy: 1.00 +/- 0.00\n",
      "k: 5. Accuracy: 1.00 +/- 0.00\n",
      "k: 6. Accuracy: 1.00 +/- 0.00\n",
      "k: 7. Accuracy: 1.00 +/- 0.00\n",
      "k: 8. Accuracy: 1.00 +/- 0.00\n",
      "k: 9. Accuracy: 0.99 +/- 0.00\n"
     ]
    }
   ],
   "source": [
    "from sklearn.model_selection import cross_val_score\n",
    "for k in [1,3,4, 5,6, 7,8, 9]:\n",
    "    knn = KNeighborsClassifier(n_neighbors = k)\n",
    "    scores = cross_val_score(knn, xtrain_mitoclean, ytrain_mitoclean, cv = 2, scoring = 'accuracy')\n",
    "    #print(scores)\n",
    "    print('k: %d. Accuracy: %0.2f +/- %0.2f'%(k, scores.mean(), scores.std()))\n"
   ]
  },
  {
   "cell_type": "code",
   "execution_count": 5,
   "metadata": {},
   "outputs": [
    {
     "name": "stdout",
     "output_type": "stream",
     "text": [
      "Training accuracy K=1 = 100.0\n",
      "Testing accuracy K=1= 99.63\n",
      "[[ 16   0   0   0   0   0   0   0]\n",
      " [  0  28   0   0   0   0   0   0]\n",
      " [  0   0 121   0   0   0   0   0]\n",
      " [  0   0   0  21   0   0   0   0]\n",
      " [  0   0   0   0  10   0   0   0]\n",
      " [  0   0   0   0   0  43   0   0]\n",
      " [  0   0   0   0   0   0  10   0]\n",
      " [  0   0   0   0   0   1   0  19]]\n"
     ]
    },
    {
     "ename": "NameError",
     "evalue": "name 'show_metrics' is not defined",
     "output_type": "error",
     "traceback": [
      "\u001b[1;31m---------------------------------------------------------------------------\u001b[0m",
      "\u001b[1;31mNameError\u001b[0m                                 Traceback (most recent call last)",
      "\u001b[1;32m<ipython-input-5-393431cd2fe9>\u001b[0m in \u001b[0;36m<module>\u001b[1;34m()\u001b[0m\n\u001b[0;32m     12\u001b[0m \u001b[0mcm\u001b[0m\u001b[1;33m=\u001b[0m\u001b[0mconfusion_matrix\u001b[0m\u001b[1;33m(\u001b[0m\u001b[0mytest_mitoclean\u001b[0m\u001b[1;33m,\u001b[0m\u001b[0mymodel_k1\u001b[0m\u001b[1;33m)\u001b[0m\u001b[1;33m\u001b[0m\u001b[0m\n\u001b[0;32m     13\u001b[0m \u001b[0mprint\u001b[0m\u001b[1;33m(\u001b[0m\u001b[0mcm\u001b[0m\u001b[1;33m)\u001b[0m\u001b[1;33m\u001b[0m\u001b[0m\n\u001b[1;32m---> 14\u001b[1;33m \u001b[0mshow_metrics\u001b[0m\u001b[1;33m(\u001b[0m\u001b[0mcm\u001b[0m\u001b[1;33m)\u001b[0m\u001b[1;33m\u001b[0m\u001b[0m\n\u001b[0m",
      "\u001b[1;31mNameError\u001b[0m: name 'show_metrics' is not defined"
     ]
    }
   ],
   "source": [
    "from sklearn.neighbors import KNeighborsClassifier\n",
    "from sklearn.model_selection import GridSearchCV, train_test_split\n",
    "from sklearn.metrics import confusion_matrix\n",
    "model = KNeighborsClassifier(n_neighbors = 1) # TESTING FOR K=1 NEIGHBORS\n",
    "model.fit(xtrain_mitoclean, ytrain_mitoclean)\n",
    "ymodel_k1 = model.predict(xtest_mitoclean)\n",
    "acc_knn1 = round(model.score(xtrain_mitoclean, ytrain_mitoclean) * 100, 2)\n",
    "print ('Training accuracy K=1 = {}'.format(acc_knn1))\n",
    "acc_knn = round(accuracy_score(ytest_mitoclean, ymodel_k1) * 100, 2)\n",
    "print ('Testing accuracy K=1= {}'.format(acc_knn))\n",
    "#RocScore=roc_auc_score(ytest_mitoclean, ymodel_k1) ; RocScore# ROC SCORE FOR K=1 NEIGHBOUR\n",
    "cm=confusion_matrix(ytest_mitoclean,ymodel_k1)\n",
    "print(cm)\n",
    "show_metrics(cm)"
   ]
  },
  {
   "cell_type": "code",
   "execution_count": null,
   "metadata": {},
   "outputs": [],
   "source": [
    "model = GaussianNB()  \n",
    "model.fit(xtrain_mitoclean, ytrain_mitoclean)               \n",
    "y_model = model.predict(xtest_mitoclean)   \n",
    "accuracy_score(ytest_mitoclean, y_model)"
   ]
  },
  {
   "cell_type": "code",
   "execution_count": 8,
   "metadata": {},
   "outputs": [
    {
     "name": "stdout",
     "output_type": "stream",
     "text": [
      "Accuracy on training set: 1.000\n",
      "Accuracy on test set: 0.996\n"
     ]
    }
   ],
   "source": [
    "tree = DecisionTreeClassifier(random_state=0)\n",
    "tree.fit(xtrain_mitoclean, ytrain_mitoclean)\n",
    "y_model = tree.predict(xtest_mitoclean)\n",
    "print(\"Accuracy on training set: {:.3f}\".format(tree.score(xtrain_mitoclean, ytrain_mitoclean)))\n",
    "print(\"Accuracy on test set: {:.3f}\".format(tree.score(xtest_mitoclean, ytest_mitoclean)))"
   ]
  },
  {
   "cell_type": "code",
   "execution_count": 9,
   "metadata": {},
   "outputs": [
    {
     "name": "stdout",
     "output_type": "stream",
     "text": [
      "Accuracy on training set: 1.00\n",
      "Accuracy on test set: 1.00\n"
     ]
    }
   ],
   "source": [
    "svc = SVC(C=1000)\n",
    "svc.fit(xtrain_mitoclean, ytrain_mitoclean)\n",
    "print(\"Accuracy on training set: {:.2f}\".format(svc.score(xtrain_mitoclean, ytrain_mitoclean)))\n",
    "print(\"Accuracy on test set: {:.2f}\".format(svc.score(xtest_mitoclean, ytest_mitoclean)))"
   ]
  },
  {
   "cell_type": "code",
   "execution_count": null,
   "metadata": {},
   "outputs": [],
   "source": []
  }
 ],
 "metadata": {
  "kernelspec": {
   "display_name": "Python 3",
   "language": "python",
   "name": "python3"
  },
  "language_info": {
   "codemirror_mode": {
    "name": "ipython",
    "version": 3
   },
   "file_extension": ".py",
   "mimetype": "text/x-python",
   "name": "python",
   "nbconvert_exporter": "python",
   "pygments_lexer": "ipython3",
   "version": "3.7.0"
  }
 },
 "nbformat": 4,
 "nbformat_minor": 2
}
